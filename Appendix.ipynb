{
 "cells": [
  {
   "cell_type": "markdown",
   "id": "60082490",
   "metadata": {},
   "source": [
    "## Importing the libraries."
   ]
  },
  {
   "cell_type": "code",
   "execution_count": 1,
   "id": "e0324cea",
   "metadata": {},
   "outputs": [],
   "source": [
    "import pandas as pd \n",
    "import numpy as np\n",
    "from matplotlib import pyplot as plt\n",
    "import seaborn as sns"
   ]
  },
  {
   "cell_type": "markdown",
   "id": "6e0ecef2",
   "metadata": {},
   "source": [
    "## Loading the datasets."
   ]
  },
  {
   "cell_type": "code",
   "execution_count": 2,
   "id": "d85c1fb3",
   "metadata": {},
   "outputs": [],
   "source": [
    "observations = pd.read_csv('observations.csv')\n",
    "species = pd.read_csv('species_info.csv')"
   ]
  },
  {
   "cell_type": "markdown",
   "id": "37189886",
   "metadata": {},
   "source": [
    "## Exploring both datasets."
   ]
  },
  {
   "cell_type": "markdown",
   "id": "d7e579c9",
   "metadata": {},
   "source": [
    "### Species."
   ]
  },
  {
   "cell_type": "code",
   "execution_count": 3,
   "id": "382aa0bc",
   "metadata": {},
   "outputs": [
    {
     "name": "stdout",
     "output_type": "stream",
     "text": [
      "  category                scientific_name  \\\n",
      "0   Mammal  Clethrionomys gapperi gapperi   \n",
      "1   Mammal                      Bos bison   \n",
      "2   Mammal                     Bos taurus   \n",
      "3   Mammal                     Ovis aries   \n",
      "4   Mammal                 Cervus elaphus   \n",
      "\n",
      "                                        common_names conservation_status  \n",
      "0                           Gapper's Red-Backed Vole                 NaN  \n",
      "1                              American Bison, Bison                 NaN  \n",
      "2  Aurochs, Aurochs, Domestic Cattle (Feral), Dom...                 NaN  \n",
      "3  Domestic Sheep, Mouflon, Red Sheep, Sheep (Feral)                 NaN  \n",
      "4                                      Wapiti Or Elk                 NaN  \n"
     ]
    }
   ],
   "source": [
    "print(species.head())"
   ]
  },
  {
   "cell_type": "markdown",
   "id": "da914e47",
   "metadata": {},
   "source": [
    "#### The `species_info.csv` contains information on the different species in the National Parks. \n",
    "#### The columns in the data set include:\n",
    "#### `category` - The category of taxonomy for each species;\n",
    "#### `scientific_name` - The scientific name of each species;\n",
    "#### `common_names` - The common names of each species;\n",
    "#### `conservation_status` - The species conservation status."
   ]
  },
  {
   "cell_type": "markdown",
   "id": "308b2c29",
   "metadata": {},
   "source": [
    "### Observations."
   ]
  },
  {
   "cell_type": "code",
   "execution_count": 4,
   "id": "5fa2cde0",
   "metadata": {},
   "outputs": [
    {
     "name": "stdout",
     "output_type": "stream",
     "text": [
      "            scientific_name                            park_name  observations\n",
      "0        Vicia benghalensis  Great Smoky Mountains National Park            68\n",
      "1            Neovison vison  Great Smoky Mountains National Park            77\n",
      "2         Prunus subcordata               Yosemite National Park           138\n",
      "3      Abutilon theophrasti                  Bryce National Park            84\n",
      "4  Githopsis specularioides  Great Smoky Mountains National Park            85\n"
     ]
    }
   ],
   "source": [
    "print(observations.head())"
   ]
  },
  {
   "cell_type": "markdown",
   "id": "8b2cf39b",
   "metadata": {},
   "source": [
    "#### The `Observations.csv` contains information from recorded sightings of different species throughout the national parks in the past 7 days. \n",
    "#### The columns included are:\n",
    "#### `scientific_name` - The scientific name of each species;\n",
    "#### `park_name`- The name of the national park;\n",
    "#### `observations` - The number of observations in the past 7 days."
   ]
  },
  {
   "cell_type": "markdown",
   "id": "e1c0cc16",
   "metadata": {},
   "source": [
    "### Checking datasets dimentions."
   ]
  },
  {
   "cell_type": "code",
   "execution_count": 5,
   "id": "afe5862e",
   "metadata": {},
   "outputs": [
    {
     "name": "stdout",
     "output_type": "stream",
     "text": [
      "species shape: (5824, 4)\n",
      "observations shape: (23296, 3)\n"
     ]
    }
   ],
   "source": [
    "print(f'species shape: {species.shape}')\n",
    "print(f'observations shape: {observations.shape}')"
   ]
  },
  {
   "cell_type": "markdown",
   "id": "3ee41f36",
   "metadata": {},
   "source": [
    "#### The `species` dataset has 5,824 rows, and 4 columns, while `observations` has 23,2296 rows, and 3 columns. "
   ]
  },
  {
   "cell_type": "markdown",
   "id": "799ca661",
   "metadata": {},
   "source": [
    "## Exploring ```species``` dataset more in depth."
   ]
  },
  {
   "cell_type": "markdown",
   "id": "d85b00c1",
   "metadata": {},
   "source": [
    "### Dataset structure."
   ]
  },
  {
   "cell_type": "code",
   "execution_count": 6,
   "id": "eb4b2dea",
   "metadata": {},
   "outputs": [
    {
     "name": "stdout",
     "output_type": "stream",
     "text": [
      "Total number of species: 5541\n",
      "Total number of category: 7\n",
      "Names of categories: ['Mammal' 'Bird' 'Reptile' 'Amphibian' 'Fish' 'Vascular Plant'\n",
      " 'Nonvascular Plant']\n"
     ]
    }
   ],
   "source": [
    "print(f'Total number of species: {species.scientific_name.nunique()}')\n",
    "print(f'Total number of category: {species.category.nunique()}')\n",
    "print(f'Names of categories: {species.category.unique()}')"
   ]
  },
  {
   "cell_type": "markdown",
   "id": "9f2c583f",
   "metadata": {},
   "source": [
    "#### The `species` dataset contains 5541 different species, distribuited in 7 types of categories."
   ]
  },
  {
   "cell_type": "markdown",
   "id": "b2730b32",
   "metadata": {},
   "source": [
    "### Exploring the ```category``` column."
   ]
  },
  {
   "cell_type": "code",
   "execution_count": 7,
   "id": "a3bc535e",
   "metadata": {},
   "outputs": [
    {
     "data": {
      "text/plain": [
       "category\n",
       "Amphibian              80\n",
       "Bird                  521\n",
       "Fish                  127\n",
       "Mammal                214\n",
       "Nonvascular Plant     333\n",
       "Reptile                79\n",
       "Vascular Plant       4470\n",
       "dtype: int64"
      ]
     },
     "execution_count": 7,
     "metadata": {},
     "output_type": "execute_result"
    }
   ],
   "source": [
    "species.groupby('category').size()"
   ]
  },
  {
   "cell_type": "markdown",
   "id": "bbc996bd",
   "metadata": {},
   "source": [
    "#### We can see that by far `Vascular Plant` is the most commun one and `Reptile` is the most rare."
   ]
  },
  {
   "cell_type": "markdown",
   "id": "a2d8e921",
   "metadata": {},
   "source": [
    "### Exploring the ```conservation_status``` column."
   ]
  },
  {
   "cell_type": "code",
   "execution_count": 8,
   "id": "023e92b2",
   "metadata": {},
   "outputs": [
    {
     "name": "stdout",
     "output_type": "stream",
     "text": [
      "Number of conservation statuses: 4\n",
      "Conservation statuses names: [nan 'Species of Concern' 'Endangered' 'Threatened' 'In Recovery']\n"
     ]
    }
   ],
   "source": [
    "print(f'Number of conservation statuses: {species.conservation_status.nunique()}')\n",
    "print(f'Conservation statuses names: {species.conservation_status.unique()}')"
   ]
  },
  {
   "cell_type": "markdown",
   "id": "399f08c7",
   "metadata": {},
   "source": [
    "#### The `conservation_status` column shows 4 different types of status and a 'nan' value. "
   ]
  },
  {
   "cell_type": "code",
   "execution_count": 9,
   "id": "77e6b01e",
   "metadata": {},
   "outputs": [
    {
     "name": "stdout",
     "output_type": "stream",
     "text": [
      "conservation_status\n",
      "Endangered             16\n",
      "In Recovery             4\n",
      "Species of Concern    161\n",
      "Threatened             10\n",
      "dtype: int64\n",
      "The data shows 5633 NaNs values\n"
     ]
    }
   ],
   "source": [
    "print(species.groupby('conservation_status').size())\n",
    "print(f'The data shows {species.conservation_status.isna().sum()} NaNs values')"
   ]
  },
  {
   "cell_type": "markdown",
   "id": "d01b29d4",
   "metadata": {},
   "source": [
    "#### There are 5,633 NaNs values which, in this case, means that they are species without concerns. \n",
    "#### On the other hand there are 161 species of concern, 16 endangered, 10 threatened, and 4 in recovery."
   ]
  },
  {
   "cell_type": "markdown",
   "id": "da75986e",
   "metadata": {},
   "source": [
    "### Checking for duplicates."
   ]
  },
  {
   "cell_type": "code",
   "execution_count": 10,
   "id": "db2dd9e7",
   "metadata": {},
   "outputs": [
    {
     "name": "stdout",
     "output_type": "stream",
     "text": [
      "0\n"
     ]
    }
   ],
   "source": [
    "print(species.duplicated().sum())"
   ]
  },
  {
   "cell_type": "markdown",
   "id": "c589c265",
   "metadata": {},
   "source": [
    "#### There is no duplicated values. "
   ]
  },
  {
   "cell_type": "markdown",
   "id": "96edab9b",
   "metadata": {},
   "source": [
    "## Looking at the `observations` dataset."
   ]
  },
  {
   "cell_type": "code",
   "execution_count": 11,
   "id": "407514a4",
   "metadata": {},
   "outputs": [
    {
     "name": "stdout",
     "output_type": "stream",
     "text": [
      "The data shows a total of 4 parks\n",
      "The parks names are the following: ['Great Smoky Mountains National Park' 'Yosemite National Park'\n",
      " 'Bryce National Park' 'Yellowstone National Park']\n"
     ]
    }
   ],
   "source": [
    "print(f'The data shows a total of {observations.park_name.nunique()} parks')\n",
    "print(f'The parks names are the following: {observations.park_name.unique()}')"
   ]
  },
  {
   "cell_type": "markdown",
   "id": "6214eb8a",
   "metadata": {},
   "source": [
    "#### We can see that the data was captured on four different parks."
   ]
  },
  {
   "cell_type": "markdown",
   "id": "a04e76c3",
   "metadata": {},
   "source": [
    "### Checking the total number of observations recored."
   ]
  },
  {
   "cell_type": "code",
   "execution_count": 12,
   "id": "e00e8c29",
   "metadata": {},
   "outputs": [
    {
     "name": "stdout",
     "output_type": "stream",
     "text": [
      "Observations: 3314739\n"
     ]
    }
   ],
   "source": [
    "print(f'Observations: {observations.observations.sum()}')"
   ]
  },
  {
   "cell_type": "markdown",
   "id": "4626ad3e",
   "metadata": {},
   "source": [
    "#### The dataset has a total of 3314739 observations divided amoung four parks."
   ]
  },
  {
   "cell_type": "markdown",
   "id": "a5429919",
   "metadata": {},
   "source": [
    "### Taking a closer look at the `scientific_name` column."
   ]
  },
  {
   "cell_type": "code",
   "execution_count": 13,
   "id": "5b330653",
   "metadata": {},
   "outputs": [
    {
     "name": "stdout",
     "output_type": "stream",
     "text": [
      "Scientific names: 5541\n"
     ]
    }
   ],
   "source": [
    "print(f'Scientific names: {observations.scientific_name.nunique()}')"
   ]
  },
  {
   "cell_type": "markdown",
   "id": "3391879d",
   "metadata": {},
   "source": [
    "#### The `observations` dataset shows a total of 5541 different scientific names registered. The same as the `species` dataset. "
   ]
  },
  {
   "cell_type": "markdown",
   "id": "8460f238",
   "metadata": {},
   "source": [
    "### Checking for duplicates."
   ]
  },
  {
   "cell_type": "code",
   "execution_count": 14,
   "id": "fcddc546",
   "metadata": {},
   "outputs": [
    {
     "name": "stdout",
     "output_type": "stream",
     "text": [
      "15\n"
     ]
    }
   ],
   "source": [
    "print(observations.duplicated().sum())"
   ]
  },
  {
   "cell_type": "markdown",
   "id": "d51cdd48",
   "metadata": {},
   "source": [
    "#### There is 15 duplicated rows in the `observations` dataset."
   ]
  },
  {
   "cell_type": "markdown",
   "id": "9b606d8d",
   "metadata": {},
   "source": [
    "### Deleting the duplicates."
   ]
  },
  {
   "cell_type": "code",
   "execution_count": 15,
   "id": "d186eede",
   "metadata": {},
   "outputs": [],
   "source": [
    "observations = observations.drop_duplicates()"
   ]
  },
  {
   "cell_type": "markdown",
   "id": "cfd0ec62",
   "metadata": {},
   "source": [
    "### Checking for NaNs."
   ]
  },
  {
   "cell_type": "code",
   "execution_count": 16,
   "id": "d54b67e5",
   "metadata": {},
   "outputs": [
    {
     "name": "stdout",
     "output_type": "stream",
     "text": [
      "scientific_name    0\n",
      "park_name          0\n",
      "observations       0\n",
      "dtype: int64\n"
     ]
    }
   ],
   "source": [
    "print(observations.isnull().sum())"
   ]
  },
  {
   "cell_type": "markdown",
   "id": "bf3c8a8c",
   "metadata": {},
   "source": [
    "#### There is no NaNs values in this dataset."
   ]
  },
  {
   "cell_type": "markdown",
   "id": "4b25ed92",
   "metadata": {},
   "source": [
    "### Filling the NaNs in the `species` dataset."
   ]
  },
  {
   "cell_type": "markdown",
   "id": "a573ff8e",
   "metadata": {},
   "source": [
    "#### The possible values for this column are the following: \n",
    "#### `Species of Concern`: declining or appear to be in need of conservation\n",
    "#### `Threatened`: vulnerable to endangerment in the near future\n",
    "#### `Endangered`: seriously at risk of extinction\n",
    "#### `In Recovery`: formerly `Endangered`, but currently neither in danger of extinction throughout all or a significant portion of its range\n",
    "\n",
    "#### In the exploration, a lot of `nan` values were detected. These values will need to be converted to `No Intervention` as this species are not in concern "
   ]
  },
  {
   "cell_type": "code",
   "execution_count": 17,
   "id": "3915a2cd",
   "metadata": {},
   "outputs": [
    {
     "data": {
      "text/plain": [
       "conservation_status\n",
       "Endangered              16\n",
       "In Recovery              4\n",
       "No Intervention       5633\n",
       "Species of Concern     161\n",
       "Threatened              10\n",
       "dtype: int64"
      ]
     },
     "execution_count": 17,
     "metadata": {},
     "output_type": "execute_result"
    }
   ],
   "source": [
    "species.fillna('No Intervention', inplace = True)\n",
    "species.groupby('conservation_status').size()"
   ]
  },
  {
   "cell_type": "markdown",
   "id": "115e03d1",
   "metadata": {},
   "source": [
    "## Analyzing the dataset"
   ]
  },
  {
   "cell_type": "markdown",
   "id": "9063fef4",
   "metadata": {},
   "source": [
    "### Taking a look at how the species are distributed on the 'conservation_status' column"
   ]
  },
  {
   "cell_type": "code",
   "execution_count": 18,
   "id": "84cf973d",
   "metadata": {},
   "outputs": [
    {
     "name": "stdout",
     "output_type": "stream",
     "text": [
      "category             Amphibian  Bird  Fish  Mammal  Nonvascular Plant  \\\n",
      "conservation_status                                                     \n",
      "Endangered                 1.0   4.0   3.0     7.0                NaN   \n",
      "In Recovery                NaN   3.0   NaN     1.0                NaN   \n",
      "Species of Concern         4.0  72.0   4.0    28.0                5.0   \n",
      "Threatened                 2.0   NaN   4.0     2.0                NaN   \n",
      "\n",
      "category             Reptile  Vascular Plant  \n",
      "conservation_status                           \n",
      "Endangered               NaN             1.0  \n",
      "In Recovery              NaN             NaN  \n",
      "Species of Concern       5.0            43.0  \n",
      "Threatened               NaN             2.0  \n"
     ]
    }
   ],
   "source": [
    "# Grouping the data to get a better understand of distribution of species among the conservation_status column.\n",
    "conservationCategory = species[species.conservation_status != 'No Intervention'].groupby(['conservation_status', 'category'])['scientific_name'].count().unstack()\n",
    "print(conservationCategory)"
   ]
  },
  {
   "cell_type": "code",
   "execution_count": 19,
   "id": "664a8760",
   "metadata": {},
   "outputs": [
    {
     "data": {
      "image/png": "[encoded data removed]",
      "text/plain": [
       "<Figure size 576x432 with 1 Axes>"
      ]
     },
     "metadata": {
      "needs_background": "light"
     },
     "output_type": "display_data"
    }
   ],
   "source": [
    "# Plotting a bar chart to visualize the distribution of species among the conservation_status column.\n",
    "ax = conservationCategory.plot(kind = 'bar', figsize=(8,6), stacked = True)"
   ]
  },
  {
   "cell_type": "markdown",
   "id": "38a64112",
   "metadata": {},
   "source": [
    "#### It is possible to see that the biggest number of species are classified as `Species of Concern`. Having that the `Bird` category is the one with the biggest volume of species in this classification. "
   ]
  },
  {
   "cell_type": "markdown",
   "id": "a08d0089",
   "metadata": {},
   "source": [
    "### Analyzing the volume and distribution of each animal categories amoung the parks."
   ]
  },
  {
   "cell_type": "code",
   "execution_count": 20,
   "id": "c369c5e2",
   "metadata": {
    "scrolled": true
   },
   "outputs": [
    {
     "data": {
      "image/png": "[encoded data removed]",
      "text/plain": [
       "<Figure size 1008x720 with 1 Axes>"
      ]
     },
     "metadata": {
      "needs_background": "light"
     },
     "output_type": "display_data"
    }
   ],
   "source": [
    "# Joining the observations with the species dataset.\n",
    "outer = observations.merge(species, on = 'scientific_name', how = 'outer')\n",
    "\n",
    "# Dorpping the plants categories from the dataset\n",
    "criteria1 = outer['category'] == 'Vascular Plant'\n",
    "outer = outer.drop(outer[criteria1].index) \n",
    "\n",
    "criteria2 = outer['category'] == 'Nonvascular Plant'\n",
    "outer = outer.drop(outer[criteria2].index) \n",
    "\n",
    "# Grouping the data in the necessary order. \n",
    "outer_cate = outer.groupby(['park_name','category'])['observations'].sum().unstack()\n",
    "\n",
    "# Plotting a bar char that shows the distribution and volume of each category among the parks.\n",
    "ax = outer_cate.plot(kind = 'bar', figsize = (14,10))\n",
    "plt.title('Volume and Distribution of Animals Categories Among the Parks')\n",
    "plt.ylabel('Number of Observations')\n",
    "plt.xlabel(\"Park Name\")\n",
    "plt.show()"
   ]
  },
  {
   "cell_type": "markdown",
   "id": "e6b30f2a",
   "metadata": {},
   "source": [
    "#### It is possible to conclude that `Yellowstone National Park` has the biggest volume of animals for every category, and specially `birds`. "
   ]
  },
  {
   "cell_type": "markdown",
   "id": "5546778a",
   "metadata": {},
   "source": [
    "## Checking the mammal population density among the parks."
   ]
  },
  {
   "cell_type": "markdown",
   "id": "eaebf170",
   "metadata": {},
   "source": [
    "### Creating a dataset with each park the total area (km²)."
   ]
  },
  {
   "cell_type": "code",
   "execution_count": 21,
   "id": "e5179196",
   "metadata": {},
   "outputs": [
    {
     "name": "stdout",
     "output_type": "stream",
     "text": [
      "                             park_name  area_(km²)\n",
      "0  Great Smoky Mountains National Park     2144.10\n",
      "1               Yosemite National Park     3027.81\n",
      "2                  Bryce National Park     1342.57\n",
      "3            Yellowstone National Park     8983.18\n"
     ]
    }
   ],
   "source": [
    "# Creating a new dataset.\n",
    "data = [('Great Smoky Mountains National Park', 2144.10), ('Yosemite National Park', 3027.81),('Bryce National Park', 1342.57),('Yellowstone National Park', 8983.18)]\n",
    "park_area = pd.DataFrame(data, columns=[\"park_name\", \"area_(km²)\"])\n",
    "\n",
    "print(park_area.head())\n",
    "\n",
    "# The data was provided by ChatGPT."
   ]
  },
  {
   "cell_type": "markdown",
   "id": "c0406524",
   "metadata": {},
   "source": [
    "### Getting the total area of the parks combined. "
   ]
  },
  {
   "cell_type": "code",
   "execution_count": 22,
   "id": "d397a66c",
   "metadata": {},
   "outputs": [
    {
     "name": "stdout",
     "output_type": "stream",
     "text": [
      "Total area: 15497.66km²\n"
     ]
    }
   ],
   "source": [
    "# Summing the total area of the four parks\n",
    "total_area = park_area['area_(km²)'].sum()\n",
    "print(f'Total area: {total_area}km²')"
   ]
  },
  {
   "cell_type": "markdown",
   "id": "1dc76e76",
   "metadata": {},
   "source": [
    "#### The four parks have a total area of 15497.66km²."
   ]
  },
  {
   "cell_type": "markdown",
   "id": "c7538889",
   "metadata": {},
   "source": [
    "### Counting the total mammal observations among the four pakrs. "
   ]
  },
  {
   "cell_type": "code",
   "execution_count": 23,
   "id": "57716c80",
   "metadata": {
    "scrolled": true
   },
   "outputs": [
    {
     "name": "stdout",
     "output_type": "stream",
     "text": [
      "Total observations: 162608\n"
     ]
    }
   ],
   "source": [
    "# Grouping the data to get the sum of mammal observations.\n",
    "total_mammal_obs = outer[outer.category == 'Mammal'].groupby('category')['observations'].sum().reset_index()\n",
    "\n",
    "# Transforming the total_mammal_obs in a df. \n",
    "m_obs_result = pd.DataFrame(total_mammal_obs)\n",
    "\n",
    "print(f'Total observations: {m_obs_result.iloc[0,1]}')"
   ]
  },
  {
   "cell_type": "markdown",
   "id": "745d4e9b",
   "metadata": {},
   "source": [
    "#### Was recored 162608 observations of mammals in the four parks combined."
   ]
  },
  {
   "cell_type": "markdown",
   "id": "3345b1c2",
   "metadata": {},
   "source": [
    "### Encountering the general mammal population density among the four parks combined. "
   ]
  },
  {
   "cell_type": "code",
   "execution_count": 24,
   "id": "0577d108",
   "metadata": {},
   "outputs": [
    {
     "name": "stdout",
     "output_type": "stream",
     "text": [
      "General mammal density: 10.49\n"
     ]
    }
   ],
   "source": [
    "# Isoleting the sum of observations from total_mammal_obs.\n",
    "t_m_obs =  m_obs_result.iloc[0,1]\n",
    "\n",
    "# Calculating the general mammal density.\n",
    "general_m_density = round((t_m_obs / total_area),2)\n",
    "print(f'General mammal density: {general_m_density}')"
   ]
  },
  {
   "cell_type": "markdown",
   "id": "89a796c4",
   "metadata": {},
   "source": [
    "#### The General mammal population density is 10 mammals per each km²."
   ]
  },
  {
   "cell_type": "markdown",
   "id": "fde09f55",
   "metadata": {},
   "source": [
    "### Joining the `park_area` dataset with the `outer` dataset.  "
   ]
  },
  {
   "cell_type": "code",
   "execution_count": 25,
   "id": "3617595a",
   "metadata": {},
   "outputs": [
    {
     "name": "stdout",
     "output_type": "stream",
     "text": [
      "    scientific_name                            park_name  observations  \\\n",
      "0    Neovison vison  Great Smoky Mountains National Park            77   \n",
      "1  Spizella pusilla  Great Smoky Mountains National Park            72   \n",
      "\n",
      "  category   common_names conservation_status  area_(km²)  \n",
      "0   Mammal  American Mink     No Intervention      2144.1  \n",
      "1     Bird  Field Sparrow     No Intervention      2144.1  \n"
     ]
    }
   ],
   "source": [
    "# Joining the tables.\n",
    "outer_area = outer.merge(park_area, on ='park_name', how = 'outer')\n",
    "print(outer_area.head(2))"
   ]
  },
  {
   "cell_type": "markdown",
   "id": "43044fd5",
   "metadata": {},
   "source": [
    "#### Now each park has the indication of its area in km²."
   ]
  },
  {
   "cell_type": "markdown",
   "id": "a3a15b02",
   "metadata": {},
   "source": [
    "### Counting the total number of mammals on each park and checking the density of its population by km². "
   ]
  },
  {
   "cell_type": "code",
   "execution_count": 26,
   "id": "c7f6ca2d",
   "metadata": {},
   "outputs": [
    {
     "data": {
      "image/png": "[encoded data removed]",
      "text/plain": [
       "<Figure size 1008x720 with 1 Axes>"
      ]
     },
     "metadata": {
      "needs_background": "light"
     },
     "output_type": "display_data"
    }
   ],
   "source": [
    "# Grouping the data to show the total population of mammals in each park and its total area.\n",
    "outer_density = outer_area[outer_area.category == 'Mammal'].groupby(['park_name','area_(km²)', 'category'])['observations'].sum().reset_index().rename(columns ={'observations':'total_observations'})\n",
    "\n",
    "# Chenging the outer_density to a df. \n",
    "outer_density = pd.DataFrame(outer_density)\n",
    "\n",
    "# Finding the mammal population density for each park.\n",
    "outer_density['population_density'] = outer_density['total_observations'] / outer_density['area_(km²)']\n",
    "# print(outer_density)\n",
    "\n",
    "# Plotting a bar chart to analyze the mammal population density by each park. \n",
    "ax = outer_density['population_density'].plot(kind = 'bar', figsize = (14,10))\n",
    "ax = plt.gca()\n",
    "ax.set_xticklabels(outer_density['park_name'])\n",
    "plt.xlabel('Park Name')\n",
    "plt.ylabel('Number of Mammals per km²')\n",
    "plt.title('Mammal Population Density per km² Among U.S. National Parks')\n",
    "plt.show()"
   ]
  },
  {
   "cell_type": "markdown",
   "id": "19c8c489",
   "metadata": {},
   "source": [
    "#### Though the Yellowstone national park is the one with the biggest number mammals observations registered the Bryce National is the US national park with the higher probability of observing mammals as it is the park with a higher mammal population density."
   ]
  }
 ],
 "metadata": {
  "kernelspec": {
   "display_name": "Python 3 (ipykernel)",
   "language": "python",
   "name": "python3"
  },
  "language_info": {
   "codemirror_mode": {
    "name": "ipython",
    "version": 3
   },
   "file_extension": ".py",
   "mimetype": "text/x-python",
   "name": "python",
   "nbconvert_exporter": "python",
   "pygments_lexer": "ipython3",
   "version": "3.9.12"
  }
 },
 "nbformat": 4,
 "nbformat_minor": 5
}
