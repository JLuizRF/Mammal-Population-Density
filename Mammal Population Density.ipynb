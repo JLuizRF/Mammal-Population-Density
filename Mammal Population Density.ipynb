{
 "cells": [
  {
   "cell_type": "markdown",
   "id": "636d4ad9",
   "metadata": {},
   "source": [
    "### Importing the libraries."
   ]
  },
  {
   "cell_type": "code",
   "execution_count": 1,
   "id": "204c2ae3",
   "metadata": {},
   "outputs": [],
   "source": [
    "import pandas as pd \n",
    "import numpy as np\n",
    "from matplotlib import pyplot as plt\n",
    "import seaborn as sns"
   ]
  },
  {
   "cell_type": "markdown",
   "id": "468bd87a",
   "metadata": {},
   "source": [
    "### Loading the datasets."
   ]
  },
  {
   "cell_type": "code",
   "execution_count": 2,
   "id": "365bf96a",
   "metadata": {},
   "outputs": [],
   "source": [
    "observations = pd.read_csv('observations.csv')\n",
    "species = pd.read_csv('species_info.csv')"
   ]
  },
  {
   "cell_type": "markdown",
   "id": "a73585f3",
   "metadata": {},
   "source": [
    "### Cleaning the data"
   ]
  },
  {
   "cell_type": "code",
   "execution_count": 3,
   "id": "d0375616",
   "metadata": {},
   "outputs": [],
   "source": [
    "observations = observations.drop_duplicates()\n",
    "species = species.drop_duplicates()"
   ]
  },
  {
   "cell_type": "markdown",
   "id": "335daaad",
   "metadata": {},
   "source": [
    "### Creating a dataset with each park the total area (km²)."
   ]
  },
  {
   "cell_type": "code",
   "execution_count": 4,
   "id": "d4f8539c",
   "metadata": {},
   "outputs": [],
   "source": [
    "# Creating a new dataset.\n",
    "data = [('Great Smoky Mountains National Park', 2144.10), ('Yosemite National Park', 3027.81),('Bryce National Park', 1342.57),('Yellowstone National Park', 8983.18)]\n",
    "park_area = pd.DataFrame(data, columns=[\"park_name\", \"area_(km²)\"])\n",
    "\n",
    "# The data was provided by ChatGPT."
   ]
  },
  {
   "cell_type": "markdown",
   "id": "b375b237",
   "metadata": {},
   "source": [
    "### Getting the total area of the parks combined."
   ]
  },
  {
   "cell_type": "code",
   "execution_count": 5,
   "id": "d740ef11",
   "metadata": {},
   "outputs": [
    {
     "name": "stdout",
     "output_type": "stream",
     "text": [
      "Total area: 15497.66km²\n"
     ]
    }
   ],
   "source": [
    "# Summing the total area of the four parks\n",
    "total_area = park_area['area_(km²)'].sum()\n",
    "print(f'Total area: {total_area}km²')"
   ]
  },
  {
   "cell_type": "markdown",
   "id": "21906d64",
   "metadata": {},
   "source": [
    "#### The four parks have a total area of 15497.66km²."
   ]
  },
  {
   "cell_type": "markdown",
   "id": "84a1a1ac",
   "metadata": {},
   "source": [
    "### Joining the observations with the species dataset."
   ]
  },
  {
   "cell_type": "code",
   "execution_count": 6,
   "id": "cdc499fd",
   "metadata": {},
   "outputs": [],
   "source": [
    "# Joining the observations with the species dataset.\n",
    "outer = observations.merge(species, on = 'scientific_name', how = 'outer')\n",
    "\n",
    "# Dorpping the plants categories from the dataset\n",
    "criteria1 = outer['category'] == 'Vascular Plant'\n",
    "outer = outer.drop(outer[criteria1].index) \n",
    "\n",
    "criteria2 = outer['category'] == 'Nonvascular Plant'\n",
    "outer = outer.drop(outer[criteria2].index)"
   ]
  },
  {
   "cell_type": "markdown",
   "id": "3db61403",
   "metadata": {},
   "source": [
    "### Counting the total mammal observations among the four pakrs."
   ]
  },
  {
   "cell_type": "code",
   "execution_count": 7,
   "id": "e455e79b",
   "metadata": {},
   "outputs": [
    {
     "name": "stdout",
     "output_type": "stream",
     "text": [
      "Total observations: 162608\n"
     ]
    }
   ],
   "source": [
    "# Grouping the data to get the sum of mammal observations.\n",
    "total_mammal_obs = outer[outer.category == 'Mammal'].groupby('category')['observations'].sum().reset_index()\n",
    "\n",
    "# Transforming the total_mammal_obs in a df. \n",
    "m_obs_result = pd.DataFrame(total_mammal_obs)\n",
    "\n",
    "print(f'Total observations: {m_obs_result.iloc[0,1]}')"
   ]
  },
  {
   "cell_type": "markdown",
   "id": "87e18237",
   "metadata": {},
   "source": [
    "#### Was recored 162608 observations of mammals in the four parks combined."
   ]
  },
  {
   "cell_type": "markdown",
   "id": "0dcde025",
   "metadata": {},
   "source": [
    "### Encountering the general mammal population density among the four parks combined."
   ]
  },
  {
   "cell_type": "code",
   "execution_count": 9,
   "id": "badff320",
   "metadata": {},
   "outputs": [
    {
     "name": "stdout",
     "output_type": "stream",
     "text": [
      "General mammal density: 10.49\n"
     ]
    }
   ],
   "source": [
    "# Isoleting the sum of observations from total_mammal_obs.\n",
    "t_m_obs =  m_obs_result.iloc[0,1]\n",
    "\n",
    "# Calculating the general mammal density.\n",
    "general_m_density = round((t_m_obs / total_area),2)\n",
    "print(f'General mammal density: {general_m_density}')"
   ]
  },
  {
   "cell_type": "markdown",
   "id": "ffb9afd7",
   "metadata": {},
   "source": [
    "### Joining the park_area dataset with the outer dataset."
   ]
  },
  {
   "cell_type": "code",
   "execution_count": 13,
   "id": "a979ebf5",
   "metadata": {},
   "outputs": [],
   "source": [
    "# Joining the tables.\n",
    "outer_area = outer.merge(park_area, on ='park_name', how = 'outer')"
   ]
  },
  {
   "cell_type": "markdown",
   "id": "d1119c19",
   "metadata": {},
   "source": [
    "#### Now each park has the indication of its area in km²."
   ]
  },
  {
   "cell_type": "markdown",
   "id": "f901350a",
   "metadata": {},
   "source": [
    "### Counting the total number of mammals on each park and checking the density of its population by km²."
   ]
  },
  {
   "cell_type": "code",
   "execution_count": 16,
   "id": "1c841b35",
   "metadata": {},
   "outputs": [
    {
     "data": {
      "image/png": "[encoded data removed]",
      "text/plain": [
       "<Figure size 1008x720 with 1 Axes>"
      ]
     },
     "metadata": {
      "needs_background": "light"
     },
     "output_type": "display_data"
    }
   ],
   "source": [
    "# Grouping the data to show the total population of mammals in each park and its total area.\n",
    "outer_density = outer_area[outer_area.category == 'Mammal'].groupby(['park_name','area_(km²)', 'category'])['observations'].sum().reset_index().rename(columns ={'observations':'total_observations'})\n",
    "\n",
    "# Chenging the outer_density to a df. \n",
    "outer_density = pd.DataFrame(outer_density)\n",
    "\n",
    "# Finding the mammal population density for each park.\n",
    "outer_density['population_density'] = outer_density['total_observations'] / outer_density['area_(km²)']\n",
    "# print(outer_density)\n",
    "\n",
    "# Plotting a bar chart to analyze the mammal population density by each park. \n",
    "ax = outer_density['population_density'].plot(kind = 'bar', figsize = (14,10))\n",
    "ax = plt.gca()\n",
    "ax.set_xticklabels(outer_density['park_name'])\n",
    "plt.xlabel('Park Name')\n",
    "plt.ylabel('Number of Mammals per km²')\n",
    "plt.title('Mammal Population Density per km² Among U.S. National Parks')\n",
    "plt.show()"
   ]
  },
  {
   "cell_type": "markdown",
   "id": "57262bef",
   "metadata": {},
   "source": [
    "#### Though the Yellowstone national park is the one with the biggest number mammals observations registered the Bryce National is the US national park with the higher probability of observing mammals as it is the park with a higher mammal population density."
   ]
  }
 ],
 "metadata": {
  "kernelspec": {
   "display_name": "Python 3 (ipykernel)",
   "language": "python",
   "name": "python3"
  },
  "language_info": {
   "codemirror_mode": {
    "name": "ipython",
    "version": 3
   },
   "file_extension": ".py",
   "mimetype": "text/x-python",
   "name": "python",
   "nbconvert_exporter": "python",
   "pygments_lexer": "ipython3",
   "version": "3.9.12"
  }
 },
 "nbformat": 4,
 "nbformat_minor": 5
}
